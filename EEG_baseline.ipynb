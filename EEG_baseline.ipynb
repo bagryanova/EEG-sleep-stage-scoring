{
  "cells": [
    {
      "cell_type": "code",
      "execution_count": null,
      "metadata": {
        "id": "QCcMWfl0iykD"
      },
      "outputs": [],
      "source": [
        "!pip install mne"
      ]
    },
    {
      "cell_type": "code",
      "execution_count": 3,
      "metadata": {
        "id": "DxvZgzuoi9Kh"
      },
      "outputs": [],
      "source": [
        "import numpy as np\n",
        "import matplotlib.pyplot as plt\n",
        "\n",
        "import mne\n",
        "from mne.datasets.sleep_physionet.age import fetch_data\n",
        "from mne.time_frequency import psd_welch\n",
        "\n",
        "from sklearn.ensemble import RandomForestClassifier\n",
        "from sklearn.metrics import accuracy_score\n",
        "from sklearn.metrics import confusion_matrix\n",
        "from sklearn.metrics import classification_report\n",
        "from sklearn.pipeline import make_pipeline\n",
        "from sklearn.preprocessing import FunctionTransformer\n",
        "import random"
      ]
    },
    {
      "cell_type": "code",
      "execution_count": null,
      "metadata": {
        "id": "XdSKQwf3nclA"
      },
      "outputs": [],
      "source": [
        "black_list = [36, 52, 39, 68, 69, 78, 79]\n",
        "\n",
        "#The first nights of subjects 36 and 52, and the second night of subject 13, were lost due to a failing cassette or laserdisk.\n",
        "np.random.seed(0)\n",
        "#subjects_train = np.random.randint(0, 82, size=30);\n",
        "subjects_train = []\n",
        "for i in range(82):\n",
        "    if i in black_list:\n",
        "      continue\n",
        "    subjects_train.append(i)\n",
        "random.shuffle(subjects_train)\n",
        "subjects_train = subjects_train[:30]\n",
        "#for i in range(83):\n",
        "#subjects_train = np.array(range(15))\n",
        "\n",
        "train_data = fetch_data(subjects=subjects_train, recording=[1])\n",
        "\n",
        "raw_train = [mne.io.read_raw_edf(train_data[i][0], stim_channel='Event marker',\n",
        "                                misc=['Temp rectal']) for i in range(len(train_data))]\n",
        "\n",
        "annot_train = [mne.read_annotations(train_data[i][1]) for i in range(len(train_data))]\n",
        "\n",
        "for i in range(len(train_data)):\n",
        "    raw_train[i].set_annotations(annot_train[i], emit_warning=False)"
      ]
    },
    {
      "cell_type": "code",
      "execution_count": 5,
      "metadata": {
        "colab": {
          "base_uri": "https://localhost:8080/",
          "height": 296
        },
        "id": "uDqmQemHn2OQ",
        "outputId": "579b7056-aa31-465c-f646-1e2878bfa9ff"
      },
      "outputs": [
        {
          "output_type": "stream",
          "name": "stdout",
          "text": [
            "Used Annotations descriptions: ['Sleep stage 1', 'Sleep stage 2', 'Sleep stage 3', 'Sleep stage 4', 'Sleep stage R', 'Sleep stage W']\n"
          ]
        },
        {
          "output_type": "display_data",
          "data": {
            "text/plain": [
              "<Figure size 432x288 with 1 Axes>"
            ],
            "image/png": "[encoded data removed]"
          },
          "metadata": {
            "needs_background": "light"
          }
        }
      ],
      "source": [
        "annotation_desc_2_event_id = {'Sleep stage W': 1,\n",
        "                              'Sleep stage 1': 2,\n",
        "                              'Sleep stage 2': 3,\n",
        "                              'Sleep stage 3': 4,\n",
        "                              'Sleep stage 4': 4,\n",
        "                              'Sleep stage R': 5}\n",
        "\n",
        "# keep last 30-min wake events before sleep and first 30-min wake events after\n",
        "# sleep and redefine annotations on raw data\n",
        "\n",
        "for i in range(len(raw_train)):\n",
        "    annot_train[i].crop(annot_train[i][1]['onset'] - 30 * 60,\n",
        "                 annot_train[i][-2]['onset'] + 30 * 60)\n",
        "\n",
        "for i in range(len(raw_train)):\n",
        "    raw_train[i].set_annotations(annot_train[i], emit_warning=False)\n",
        "\n",
        "\n",
        "mne.concatenate_raws(raw_train)\n",
        "\n",
        "event, _ = mne.events_from_annotations(\n",
        "raw_train[0], event_id=annotation_desc_2_event_id, chunk_duration=30.)\n",
        "\n",
        "\n",
        "# create a new event_id that unifies stages 3 and 4\n",
        "event_id = {'Sleep stage W': 1,\n",
        "            'Sleep stage 1': 2,\n",
        "            'Sleep stage 2': 3,\n",
        "            'Sleep stage 3/4': 4,\n",
        "            'Sleep stage R': 5}\n",
        "\n",
        "# plot events\n",
        "fig = mne.viz.plot_events(event, event_id=event_id, sfreq=raw_train[0].info['sfreq'], first_samp=event[0, 0])\n",
        "\n",
        "# keep the color-code for further plotting\n",
        "stage_colors = plt.rcParams['axes.prop_cycle'].by_key()['color']"
      ]
    },
    {
      "cell_type": "markdown",
      "metadata": {
        "id": "xSEU3jJpqYuO"
      },
      "source": [
        ""
      ]
    },
    {
      "cell_type": "code",
      "execution_count": 6,
      "metadata": {
        "colab": {
          "base_uri": "https://localhost:8080/"
        },
        "id": "rtx3FFzQoPGl",
        "outputId": "28a1b7e4-4851-4ae0-be31-dd1cb60d8900"
      },
      "outputs": [
        {
          "output_type": "stream",
          "name": "stdout",
          "text": [
            "Not setting metadata\n",
            "40583 matching events found\n",
            "No baseline correction applied\n",
            "0 projection items activated\n"
          ]
        }
      ],
      "source": [
        "tmax = 30. - 1. / raw_train[0].info['sfreq']  # tmax in included\n",
        "#print(raw_train[0].info['sfreq'], raw_train[2].info['sfreq'])\n",
        "\n",
        "epochs_train = mne.Epochs(raw=raw_train[0], events=event,\n",
        "                          event_id=event_id, tmin=0., tmax=tmax, baseline=None)"
      ]
    },
    {
      "cell_type": "code",
      "source": [
        "black_list = [39, 68, 69, 78, 79]\n",
        "\n",
        "#subjects_test = np.random.randint(0, 82, size=10)\n",
        "#indexes = np.isin(subjects_test, subjects_train, invert=True)\n",
        "#subjects_test = subjects_test[indexes]\n",
        "#subjects_test = [2]\n",
        "subjects_test = []\n",
        "for i in range(82):\n",
        "    if i in black_list or i in subjects_train:\n",
        "      continue\n",
        "    subjects_test.append(i)\n",
        "random.shuffle(subjects_test)\n",
        "subjects_test = subjects_test[:15]\n",
        "#subjects_test = [16, 17, 18, 19, 20]\n",
        "\n",
        "test_data = fetch_data(subjects=subjects_test, recording=[2], on_missing='raise')\n",
        "\n",
        "raw_test = [mne.io.read_raw_edf(test_data[i][0], stim_channel='Event marker',\n",
        "                                misc=['Temp rectal']) for i in range(len(test_data))]\n",
        "\n",
        "annot_test = [mne.read_annotations(test_data[i][1]) for i in range(len(test_data))]\n",
        "\n",
        "for i in range(len(test_data)):\n",
        "    raw_test[i].set_annotations(annot_test[i], emit_warning=False)\n",
        "\n",
        "for i in range(len(raw_test)):\n",
        "    annot_test[i].crop(annot_test[i][1]['onset'] - 30 * 60,\n",
        "                 annot_test[i][-2]['onset'] + 30 * 60)\n",
        "\n",
        "for i in range(len(raw_test)):\n",
        "    raw_test[i].set_annotations(annot_test[i], emit_warning=False)\n",
        "\n",
        "\n",
        "mne.concatenate_raws(raw_test)\n",
        "\n",
        "events_test, _ = mne.events_from_annotations(\n",
        "raw_test[0], event_id=annotation_desc_2_event_id, chunk_duration=30.)\n",
        "\n",
        "epochs_test = mne.Epochs(raw=raw_test[0], events=events_test,\n",
        "                          event_id=event_id, tmin=0., tmax=tmax, baseline=None)"
      ],
      "metadata": {
        "id": "X2QVfO4o9Fio"
      },
      "execution_count": null,
      "outputs": []
    },
    {
      "cell_type": "code",
      "execution_count": 8,
      "metadata": {
        "id": "PJUHa3VFokiu"
      },
      "outputs": [],
      "source": [
        "def eeg_power_band(epochs):\n",
        "    \"\"\"EEG relative power band feature extraction.\n",
        "\n",
        "    This function takes an ``mne.Epochs`` object and creates EEG features based\n",
        "    on relative power in specific frequency bands that are compatible with\n",
        "    scikit-learn.\n",
        "\n",
        "    Parameters\n",
        "    ----------\n",
        "    epochs : Epochs\n",
        "        The data.\n",
        "\n",
        "    Returns\n",
        "    -------\n",
        "    X : numpy array of shape [n_samples, 5]\n",
        "        Transformed data.\n",
        "    \"\"\"\n",
        "    # specific frequency bands\n",
        "    FREQ_BANDS = {\"delta\": [0.5, 4.5],\n",
        "                  \"theta\": [4.5, 8.5],\n",
        "                  \"alpha\": [8.5, 11.5],\n",
        "                  \"sigma\": [11.5, 15.5],\n",
        "                  \"beta\": [15.5, 30]}\n",
        "\n",
        "    psds, freqs = psd_welch(epochs, picks='eeg', fmin=0.5, fmax=30.)\n",
        "    # Normalize the PSDs\n",
        "    psds /= np.sum(psds, axis=-1, keepdims=True)\n",
        "\n",
        "    X = []\n",
        "    for fmin, fmax in FREQ_BANDS.values():\n",
        "        psds_band = psds[:, :, (freqs >= fmin) & (freqs < fmax)].mean(axis=-1)\n",
        "        X.append(psds_band.reshape(len(psds), -1))\n",
        "\n",
        "    return np.concatenate(X, axis=1)"
      ]
    },
    {
      "cell_type": "code",
      "execution_count": 12,
      "metadata": {
        "id": "S_G5EFHwibVm",
        "colab": {
          "base_uri": "https://localhost:8080/"
        },
        "outputId": "22870301-3742-45ba-90cb-ea0cd0cf8820"
      },
      "outputs": [
        {
          "output_type": "stream",
          "name": "stdout",
          "text": [
            "Loading data for 40583 events and 3000 original time points ...\n",
            "Effective window size : 2.560 (s)\n",
            "Loading data for 19691 events and 3000 original time points ...\n",
            "Effective window size : 2.560 (s)\n",
            "Accuracy score: 0.7319079782641816\n"
          ]
        }
      ],
      "source": [
        "pipe = make_pipeline(FunctionTransformer(eeg_power_band, validate=False),\n",
        "                     RandomForestClassifier(n_estimators=100, random_state=42, min_samples_leaf=50, max_depth=20))\n",
        "\n",
        "# Train\n",
        "y_train = epochs_train.events[:, 2]\n",
        "pipe.fit(epochs_train, y_train)\n",
        "\n",
        "# Test\n",
        "y_pred = pipe.predict(epochs_test)\n",
        "\n",
        "# Assess the results\n",
        "y_test = epochs_test.events[:, 2]\n",
        "acc = accuracy_score(y_test, y_pred)\n",
        "\n",
        "print(\"Accuracy score: {}\".format(acc))"
      ]
    }
  ],
  "metadata": {
    "colab": {
      "name": "EEG_baseline.ipynb",
      "provenance": []
    },
    "kernelspec": {
      "display_name": "Python 3",
      "name": "python3"
    },
    "language_info": {
      "name": "python"
    }
  },
  "nbformat": 4,
  "nbformat_minor": 0
}