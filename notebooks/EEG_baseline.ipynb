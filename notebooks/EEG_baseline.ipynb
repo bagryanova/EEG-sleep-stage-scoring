{
  "cells": [
    {
      "cell_type": "code",
      "execution_count": null,
      "metadata": {
        "id": "QCcMWfl0iykD"
      },
      "outputs": [],
      "source": [
        "!pip install mne"
      ]
    },
    {
      "cell_type": "code",
      "execution_count": null,
      "metadata": {
        "id": "DxvZgzuoi9Kh"
      },
      "outputs": [],
      "source": [
        "import numpy as np\n",
        "import matplotlib.pyplot as plt\n",
        "\n",
        "import mne\n",
        "from mne.datasets.sleep_physionet.age import fetch_data\n",
        "from mne.time_frequency import psd_welch\n",
        "\n",
        "from sklearn.ensemble import RandomForestClassifier\n",
        "from sklearn.metrics import accuracy_score\n",
        "from sklearn.metrics import confusion_matrix\n",
        "from sklearn.metrics import classification_report\n",
        "from sklearn.pipeline import make_pipeline\n",
        "from sklearn.preprocessing import FunctionTransformer\n",
        "import random"
      ]
    },
    {
      "cell_type": "code",
      "execution_count": null,
      "metadata": {
        "id": "XdSKQwf3nclA"
      },
      "outputs": [],
      "source": [
        "black_list = [36, 52, 39, 68, 69, 78, 79]\n",
        "\n",
        "#The first nights of subjects 36 and 52, and the second night of subject 13, were lost due to a failing cassette or laserdisk.\n",
        "np.random.seed(0)\n",
        "subjects_train = []\n",
        "for i in range(82):\n",
        "    if i in black_list:\n",
        "      continue\n",
        "    subjects_train.append(i)\n",
        "random.shuffle(subjects_train)\n",
        "subjects_train = subjects_train[:30]\n",
        "\n",
        "train_data = fetch_data(subjects=subjects_train, recording=[1])\n",
        "\n",
        "raw_train = [mne.io.read_raw_edf(train_data[i][0], stim_channel='Event marker',\n",
        "                                misc=['Temp rectal']) for i in range(len(train_data))]\n",
        "\n",
        "annot_train = [mne.read_annotations(train_data[i][1]) for i in range(len(train_data))]\n",
        "\n",
        "for i in range(len(train_data)):\n",
        "    raw_train[i].set_annotations(annot_train[i], emit_warning=False)"
      ]
    },
    {
      "cell_type": "code",
      "execution_count": null,
      "metadata": {
        "colab": {
          "base_uri": "https://localhost:8080/",
          "height": 296
        },
        "id": "uDqmQemHn2OQ",
        "outputId": "f45e9247-27c5-405b-928e-66cfcaf4bb4e"
      },
      "outputs": [
        {
          "output_type": "stream",
          "name": "stdout",
          "text": [
            "Used Annotations descriptions: ['Sleep stage 1', 'Sleep stage 2', 'Sleep stage 3', 'Sleep stage 4', 'Sleep stage R', 'Sleep stage W']\n"
          ]
        },
        {
          "output_type": "display_data",
          "data": {
            "text/plain": [
              "<Figure size 432x288 with 1 Axes>"
            ],
            "image/png": "[encoded data removed]"
          },
          "metadata": {
            "needs_background": "light"
          }
        }
      ],
      "source": [
        "annotation_desc_2_event_id = {'Sleep stage W': 1,\n",
        "                              'Sleep stage 1': 2,\n",
        "                              'Sleep stage 2': 3,\n",
        "                              'Sleep stage 3': 4,\n",
        "                              'Sleep stage 4': 4,\n",
        "                              'Sleep stage R': 5}\n",
        "\n",
        "# keep last 30-min wake events before sleep and first 30-min wake events after\n",
        "# sleep and redefine annotations on raw data\n",
        "\n",
        "for i in range(len(raw_train)):\n",
        "    annot_train[i].crop(annot_train[i][1]['onset'] - 30 * 60,\n",
        "                 annot_train[i][-2]['onset'] + 30 * 60)\n",
        "\n",
        "for i in range(len(raw_train)):\n",
        "    raw_train[i].set_annotations(annot_train[i], emit_warning=False)\n",
        "\n",
        "\n",
        "mne.concatenate_raws(raw_train)\n",
        "\n",
        "event, _ = mne.events_from_annotations(\n",
        "raw_train[0], event_id=annotation_desc_2_event_id, chunk_duration=30.)\n",
        "\n",
        "\n",
        "# create a new event_id that unifies stages 3 and 4\n",
        "event_id = {'Sleep stage W': 1,\n",
        "            'Sleep stage 1': 2,\n",
        "            'Sleep stage 2': 3,\n",
        "            'Sleep stage 3/4': 4,\n",
        "            'Sleep stage R': 5}\n",
        "\n",
        "# plot events\n",
        "fig = mne.viz.plot_events(event, event_id=event_id, sfreq=raw_train[0].info['sfreq'], first_samp=event[0, 0])\n",
        "\n",
        "# keep the color-code for further plotting\n",
        "stage_colors = plt.rcParams['axes.prop_cycle'].by_key()['color']"
      ]
    },
    {
      "cell_type": "markdown",
      "metadata": {
        "id": "xSEU3jJpqYuO"
      },
      "source": [
        ""
      ]
    },
    {
      "cell_type": "code",
      "execution_count": null,
      "metadata": {
        "colab": {
          "base_uri": "https://localhost:8080/"
        },
        "id": "rtx3FFzQoPGl",
        "outputId": "dc690716-a04d-49d4-d9db-9dc8b3582075"
      },
      "outputs": [
        {
          "output_type": "stream",
          "name": "stdout",
          "text": [
            "Not setting metadata\n",
            "39295 matching events found\n",
            "No baseline correction applied\n",
            "0 projection items activated\n"
          ]
        }
      ],
      "source": [
        "tmax = 30. - 1. / raw_train[0].info['sfreq']  # tmax in included\n",
        "\n",
        "epochs_train = mne.Epochs(raw=raw_train[0], events=event,\n",
        "                          event_id=event_id, tmin=0., tmax=tmax, baseline=None)"
      ]
    },
    {
      "cell_type": "code",
      "source": [
        "black_list = [39, 68, 69, 78, 79]\n",
        "subjects_test = []\n",
        "for i in range(82):\n",
        "    if i in black_list or i in subjects_train:\n",
        "      continue\n",
        "    subjects_test.append(i)\n",
        "random.shuffle(subjects_test)\n",
        "subjects_test = subjects_test[:15]\n",
        "\n",
        "test_data = fetch_data(subjects=subjects_test, recording=[2], on_missing='raise')\n",
        "\n",
        "raw_test = [mne.io.read_raw_edf(test_data[i][0], stim_channel='Event marker',\n",
        "                                misc=['Temp rectal']) for i in range(len(test_data))]\n",
        "\n",
        "annot_test = [mne.read_annotations(test_data[i][1]) for i in range(len(test_data))]\n",
        "\n",
        "for i in range(len(test_data)):\n",
        "    raw_test[i].set_annotations(annot_test[i], emit_warning=False)\n",
        "\n",
        "for i in range(len(raw_test)):\n",
        "    annot_test[i].crop(annot_test[i][1]['onset'] - 30 * 60,\n",
        "                 annot_test[i][-2]['onset'] + 30 * 60)\n",
        "\n",
        "for i in range(len(raw_test)):\n",
        "    raw_test[i].set_annotations(annot_test[i], emit_warning=False)\n",
        "\n",
        "\n",
        "mne.concatenate_raws(raw_test)\n",
        "\n",
        "events_test, _ = mne.events_from_annotations(\n",
        "raw_test[0], event_id=annotation_desc_2_event_id, chunk_duration=30.)\n",
        "\n",
        "epochs_test = mne.Epochs(raw=raw_test[0], events=events_test,\n",
        "                          event_id=event_id, tmin=0., tmax=tmax, baseline=None)"
      ],
      "metadata": {
        "id": "X2QVfO4o9Fio"
      },
      "execution_count": null,
      "outputs": []
    },
    {
      "cell_type": "code",
      "execution_count": null,
      "metadata": {
        "id": "PJUHa3VFokiu"
      },
      "outputs": [],
      "source": [
        "def eeg_power_band(epochs):\n",
        "    \"\"\"EEG relative power band feature extraction.\n",
        "\n",
        "    This function takes an ``mne.Epochs`` object and creates EEG features based\n",
        "    on relative power in specific frequency bands that are compatible with\n",
        "    scikit-learn.\n",
        "\n",
        "    Parameters\n",
        "    ----------\n",
        "    epochs : Epochs\n",
        "        The data.\n",
        "\n",
        "    Returns\n",
        "    -------\n",
        "    X : numpy array of shape [n_samples, 5]\n",
        "        Transformed data.\n",
        "    \"\"\"\n",
        "    # specific frequency bands\n",
        "    FREQ_BANDS = {\"delta\": [0.5, 4.5],\n",
        "                  \"theta\": [4.5, 8.5],\n",
        "                  \"alpha\": [8.5, 11.5],\n",
        "                  \"sigma\": [11.5, 15.5],\n",
        "                  \"beta\": [15.5, 30]}\n",
        "\n",
        "    psds, freqs = psd_welch(epochs, picks='eeg', fmin=0.5, fmax=30.)\n",
        "    # Normalize the PSDs\n",
        "    psds /= np.sum(psds, axis=-1, keepdims=True)\n",
        "\n",
        "    X = []\n",
        "    for fmin, fmax in FREQ_BANDS.values():\n",
        "        psds_band = psds[:, :, (freqs >= fmin) & (freqs < fmax)].mean(axis=-1)\n",
        "        X.append(psds_band.reshape(len(psds), -1))\n",
        "\n",
        "    return np.concatenate(X, axis=1)"
      ]
    },
    {
      "cell_type": "code",
      "execution_count": null,
      "metadata": {
        "id": "S_G5EFHwibVm",
        "colab": {
          "base_uri": "https://localhost:8080/"
        },
        "outputId": "233858a8-7e41-44a1-efa3-0dd906c67ad7"
      },
      "outputs": [
        {
          "output_type": "stream",
          "name": "stdout",
          "text": [
            "Loading data for 39295 events and 3000 original time points ...\n",
            "0 bad epochs dropped\n",
            "Effective window size : 2.560 (s)\n",
            "Loading data for 17813 events and 3000 original time points ...\n",
            "0 bad epochs dropped\n",
            "Effective window size : 2.560 (s)\n"
          ]
        }
      ],
      "source": [
        "pipe = make_pipeline(FunctionTransformer(eeg_power_band, validate=False),\n",
        "                     RandomForestClassifier(n_estimators=100, random_state=42, min_samples_leaf=50, max_depth=20))\n",
        "\n",
        "# Train\n",
        "y_train = epochs_train.events[:, 2]\n",
        "pipe.fit(epochs_train, y_train)\n",
        "\n",
        "# Test\n",
        "y_pred = pipe.predict(epochs_test)"
      ]
    },
    {
      "cell_type": "code",
      "source": [
        "# Assess the results\n",
        "y_test = epochs_test.events[:, 2]\n",
        "acc = accuracy_score(y_test, y_pred)\n",
        "\n",
        "print(\"Accuracy score: {}\".format(acc))"
      ],
      "metadata": {
        "colab": {
          "base_uri": "https://localhost:8080/"
        },
        "id": "IhxUle96fAom",
        "outputId": "8065f0cd-3c4a-4727-c5f0-c1bd0245b300"
      },
      "execution_count": null,
      "outputs": [
        {
          "output_type": "stream",
          "name": "stdout",
          "text": [
            "Accuracy score: 0.7165553247628137\n"
          ]
        }
      ]
    },
    {
      "cell_type": "code",
      "source": [
        "from sklearn.metrics import cohen_kappa_score\n",
        "cohen_kappa = cohen_kappa_score(y_test, y_pred)\n",
        "print(\"Cohen kappa score: {}\".format(cohen_kappa))"
      ],
      "metadata": {
        "colab": {
          "base_uri": "https://localhost:8080/"
        },
        "id": "iKqeOMUOfCkb",
        "outputId": "1a562b98-861e-48f6-db9b-2f6ad52ceb07"
      },
      "execution_count": null,
      "outputs": [
        {
          "output_type": "stream",
          "name": "stdout",
          "text": [
            "Cohen kappa score: 0.5977611645853758\n"
          ]
        }
      ]
    },
    {
      "cell_type": "code",
      "source": [
        "from sklearn.metrics import f1_score\n",
        "f1 = f1_score(y_test, y_pred, average=None)\n",
        "f1"
      ],
      "metadata": {
        "colab": {
          "base_uri": "https://localhost:8080/"
        },
        "id": "Tj8mK4DZhKdR",
        "outputId": "e4c44092-dbff-4b1e-f9fc-72de7cb70022"
      },
      "execution_count": null,
      "outputs": [
        {
          "output_type": "execute_result",
          "data": {
            "text/plain": [
              "array([0.83089547, 0.19226891, 0.80697069, 0.58172232, 0.53272814])"
            ]
          },
          "metadata": {},
          "execution_count": 21
        }
      ]
    },
    {
      "cell_type": "code",
      "source": [
        "from sklearn.metrics import f1_score\n",
        "f1 = f1_score(y_test, y_pred, average='weighted')\n",
        "f1"
      ],
      "metadata": {
        "id": "h_k3cB2h3wqg",
        "outputId": "f1ba685b-9152-4573-afcd-c290286fad18",
        "colab": {
          "base_uri": "https://localhost:8080/"
        }
      },
      "execution_count": null,
      "outputs": [
        {
          "output_type": "execute_result",
          "data": {
            "text/plain": [
              "0.6824625423982995"
            ]
          },
          "metadata": {},
          "execution_count": 22
        }
      ]
    },
    {
      "cell_type": "code",
      "source": [
        "conf_matrix = confusion_matrix(y_true=y_test, y_pred=y_pred)\n",
        "#\n",
        "# Print the confusion matrix using Matplotlib\n",
        "#\n",
        "fig, ax = plt.subplots(figsize=(7.5, 7.5))\n",
        "ax.matshow(conf_matrix, cmap=plt.cm.Blues, alpha=0.3)\n",
        "for i in range(conf_matrix.shape[0]):\n",
        "    for j in range(conf_matrix.shape[1]):\n",
        "        ax.text(x=j, y=i,s=conf_matrix[i, j], va='center', ha='center', size='xx-large')\n",
        " \n",
        "plt.xlabel('Predictions', fontsize=18)\n",
        "plt.ylabel('Actuals', fontsize=18)\n",
        "plt.title('Confusion Matrix', fontsize=18)\n",
        "plt.show()"
      ],
      "metadata": {
        "colab": {
          "base_uri": "https://localhost:8080/",
          "height": 501
        },
        "id": "D_EG5KzSfrFA",
        "outputId": "ff657c8a-c8be-449b-ca8a-5c23db0e62ec"
      },
      "execution_count": null,
      "outputs": [
        {
          "output_type": "display_data",
          "data": {
            "text/plain": [
              "<Figure size 540x540 with 1 Axes>"
            ],
            "image/png": "[encoded data removed]"
          },
          "metadata": {
            "needs_background": "light"
          }
        }
      ]
    }
  ],
  "metadata": {
    "colab": {
      "name": "EEG_baseline.ipynb",
      "provenance": []
    },
    "kernelspec": {
      "display_name": "Python 3",
      "name": "python3"
    },
    "language_info": {
      "name": "python"
    }
  },
  "nbformat": 4,
  "nbformat_minor": 0
}